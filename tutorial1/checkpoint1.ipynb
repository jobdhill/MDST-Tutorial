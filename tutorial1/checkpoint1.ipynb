{
 "cells": [
  {
   "cell_type": "markdown",
   "metadata": {},
   "source": [
    "# Checkpoint 1"
   ]
  },
  {
   "cell_type": "markdown",
   "metadata": {},
   "source": [
    "Reminder: \n",
    "\n",
    "- You are being evaluated for completion and effort in this checkpoint. \n",
    "- Avoid manual labor / hard coding as much as possible, everything we've taught you so far are meant to simplify and automate your process.\n",
    "- Please do not remove any comment that starts with: \"# @@@\". "
   ]
  },
  {
   "cell_type": "markdown",
   "metadata": {},
   "source": [
    "We will be working with the same `states_edu.csv` that you should already be familiar with from the tutorial.\n",
    "\n",
    "We investigated Grade 8 reading score in the tutorial. For this checkpoint, you are asked to investigate another test. Here's an overview:\n",
    "\n",
    "* Choose a specific response variable to focus on\n",
    ">Grade 4 Math, Grade 4 Reading, Grade 8 Math\n",
    "* Pick or create features to use\n",
    ">Will all the features be useful in predicting test score? Are some more important than others? Should you standardize, bin, or scale the data?\n",
    "* Explore the data as it relates to that test\n",
    ">Create at least 2 visualizations (graphs), each with a caption describing the graph and what it tells us about the data\n",
    "* Create training and testing data\n",
    ">Do you want to train on all the data? Only data from the last 10 years? Only Michigan data?\n",
    "* Train a ML model to predict outcome \n",
    ">Define what you want to predict, and pick a model in sklearn to use (see sklearn <a href=\"https://scikit-learn.org/stable/modules/linear_model.html\">regressors</a>).\n",
    "\n",
    "\n",
    "Include comments throughout your code! Every cleanup and preprocessing task should be documented.\n"
   ]
  },
  {
   "cell_type": "markdown",
   "metadata": {},
   "source": []
  },
  {
   "cell_type": "markdown",
   "metadata": {},
   "source": [
    "<h2> Data Cleanup </h2>\n",
    "\n",
    "Import `numpy`, `pandas`, and `matplotlib`.\n",
    "\n",
    "(Feel free to import other libraries!)"
   ]
  },
  {
   "cell_type": "code",
   "execution_count": 5,
   "metadata": {},
   "outputs": [],
   "source": [
    "import numpy as np \n",
    "import pandas as pd\n",
    "import matplotlib.pyplot as plt"
   ]
  },
  {
   "cell_type": "markdown",
   "metadata": {},
   "source": [
    "Load in the \"states_edu.csv\" dataset and take a look at the head of the data"
   ]
  },
  {
   "cell_type": "code",
   "execution_count": 6,
   "metadata": {},
   "outputs": [],
   "source": [
    "df = pd.read_csv('../data/states_edu.csv')"
   ]
  },
  {
   "cell_type": "markdown",
   "metadata": {},
   "source": [
    "You should always familiarize yourself with what each column in the dataframe represents. Read about the states_edu dataset here: https://www.kaggle.com/noriuk/us-education-datasets-unification-project"
   ]
  },
  {
   "cell_type": "markdown",
   "metadata": {},
   "source": [
    "Use this space to rename columns, deal with missing data, etc. _(optional)_"
   ]
  },
  {
   "cell_type": "code",
   "execution_count": null,
   "metadata": {},
   "outputs": [],
   "source": []
  },
  {
   "cell_type": "markdown",
   "metadata": {},
   "source": [
    "<h2>Exploratory Data Analysis (EDA) </h2>"
   ]
  },
  {
   "cell_type": "markdown",
   "metadata": {},
   "source": [
    "Chosen one of Grade 4 Reading, Grade 4 Math, or Grade 8 Math to focus on: **Grade 4 Reading**"
   ]
  },
  {
   "cell_type": "markdown",
   "metadata": {},
   "source": [
    "How many years of data are logged in our dataset? **I believe 10 years**"
   ]
  },
  {
   "cell_type": "code",
   "execution_count": null,
   "metadata": {},
   "outputs": [
    {
     "data": {
      "text/html": [
       "<div>\n",
       "<style scoped>\n",
       "    .dataframe tbody tr th:only-of-type {\n",
       "        vertical-align: middle;\n",
       "    }\n",
       "\n",
       "    .dataframe tbody tr th {\n",
       "        vertical-align: top;\n",
       "    }\n",
       "\n",
       "    .dataframe thead th {\n",
       "        text-align: right;\n",
       "    }\n",
       "</style>\n",
       "<table border=\"1\" class=\"dataframe\">\n",
       "  <thead>\n",
       "    <tr style=\"text-align: right;\">\n",
       "      <th></th>\n",
       "      <th>PRIMARY_KEY</th>\n",
       "      <th>STATE</th>\n",
       "      <th>YEAR</th>\n",
       "      <th>ENROLL</th>\n",
       "      <th>TOTAL_REVENUE</th>\n",
       "      <th>FEDERAL_REVENUE</th>\n",
       "      <th>STATE_REVENUE</th>\n",
       "      <th>LOCAL_REVENUE</th>\n",
       "      <th>TOTAL_EXPENDITURE</th>\n",
       "      <th>INSTRUCTION_EXPENDITURE</th>\n",
       "      <th>...</th>\n",
       "      <th>GRADES_4_G</th>\n",
       "      <th>GRADES_8_G</th>\n",
       "      <th>GRADES_12_G</th>\n",
       "      <th>GRADES_1_8_G</th>\n",
       "      <th>GRADES_9_12_G</th>\n",
       "      <th>GRADES_ALL_G</th>\n",
       "      <th>AVG_MATH_4_SCORE</th>\n",
       "      <th>AVG_MATH_8_SCORE</th>\n",
       "      <th>AVG_READING_4_SCORE</th>\n",
       "      <th>AVG_READING_8_SCORE</th>\n",
       "    </tr>\n",
       "  </thead>\n",
       "  <tbody>\n",
       "    <tr>\n",
       "      <th>0</th>\n",
       "      <td>1992_ALABAMA</td>\n",
       "      <td>ALABAMA</td>\n",
       "      <td>1992</td>\n",
       "      <td>NaN</td>\n",
       "      <td>2678885.0</td>\n",
       "      <td>304177.0</td>\n",
       "      <td>1659028.0</td>\n",
       "      <td>715680.0</td>\n",
       "      <td>2653798.0</td>\n",
       "      <td>1481703.0</td>\n",
       "      <td>...</td>\n",
       "      <td>57948.0</td>\n",
       "      <td>58025.0</td>\n",
       "      <td>41167.0</td>\n",
       "      <td>NaN</td>\n",
       "      <td>NaN</td>\n",
       "      <td>731634.0</td>\n",
       "      <td>208.0</td>\n",
       "      <td>252.0</td>\n",
       "      <td>207.0</td>\n",
       "      <td>NaN</td>\n",
       "    </tr>\n",
       "    <tr>\n",
       "      <th>1</th>\n",
       "      <td>1992_ALASKA</td>\n",
       "      <td>ALASKA</td>\n",
       "      <td>1992</td>\n",
       "      <td>NaN</td>\n",
       "      <td>1049591.0</td>\n",
       "      <td>106780.0</td>\n",
       "      <td>720711.0</td>\n",
       "      <td>222100.0</td>\n",
       "      <td>972488.0</td>\n",
       "      <td>498362.0</td>\n",
       "      <td>...</td>\n",
       "      <td>9748.0</td>\n",
       "      <td>8789.0</td>\n",
       "      <td>6714.0</td>\n",
       "      <td>NaN</td>\n",
       "      <td>NaN</td>\n",
       "      <td>122487.0</td>\n",
       "      <td>NaN</td>\n",
       "      <td>NaN</td>\n",
       "      <td>NaN</td>\n",
       "      <td>NaN</td>\n",
       "    </tr>\n",
       "    <tr>\n",
       "      <th>2</th>\n",
       "      <td>1992_ARIZONA</td>\n",
       "      <td>ARIZONA</td>\n",
       "      <td>1992</td>\n",
       "      <td>NaN</td>\n",
       "      <td>3258079.0</td>\n",
       "      <td>297888.0</td>\n",
       "      <td>1369815.0</td>\n",
       "      <td>1590376.0</td>\n",
       "      <td>3401580.0</td>\n",
       "      <td>1435908.0</td>\n",
       "      <td>...</td>\n",
       "      <td>55433.0</td>\n",
       "      <td>49081.0</td>\n",
       "      <td>37410.0</td>\n",
       "      <td>NaN</td>\n",
       "      <td>NaN</td>\n",
       "      <td>673477.0</td>\n",
       "      <td>215.0</td>\n",
       "      <td>265.0</td>\n",
       "      <td>209.0</td>\n",
       "      <td>NaN</td>\n",
       "    </tr>\n",
       "    <tr>\n",
       "      <th>3</th>\n",
       "      <td>1992_ARKANSAS</td>\n",
       "      <td>ARKANSAS</td>\n",
       "      <td>1992</td>\n",
       "      <td>NaN</td>\n",
       "      <td>1711959.0</td>\n",
       "      <td>178571.0</td>\n",
       "      <td>958785.0</td>\n",
       "      <td>574603.0</td>\n",
       "      <td>1743022.0</td>\n",
       "      <td>964323.0</td>\n",
       "      <td>...</td>\n",
       "      <td>34632.0</td>\n",
       "      <td>36011.0</td>\n",
       "      <td>27651.0</td>\n",
       "      <td>NaN</td>\n",
       "      <td>NaN</td>\n",
       "      <td>441490.0</td>\n",
       "      <td>210.0</td>\n",
       "      <td>256.0</td>\n",
       "      <td>211.0</td>\n",
       "      <td>NaN</td>\n",
       "    </tr>\n",
       "    <tr>\n",
       "      <th>4</th>\n",
       "      <td>1992_CALIFORNIA</td>\n",
       "      <td>CALIFORNIA</td>\n",
       "      <td>1992</td>\n",
       "      <td>NaN</td>\n",
       "      <td>26260025.0</td>\n",
       "      <td>2072470.0</td>\n",
       "      <td>16546514.0</td>\n",
       "      <td>7641041.0</td>\n",
       "      <td>27138832.0</td>\n",
       "      <td>14358922.0</td>\n",
       "      <td>...</td>\n",
       "      <td>418418.0</td>\n",
       "      <td>363296.0</td>\n",
       "      <td>270675.0</td>\n",
       "      <td>NaN</td>\n",
       "      <td>NaN</td>\n",
       "      <td>5254844.0</td>\n",
       "      <td>208.0</td>\n",
       "      <td>261.0</td>\n",
       "      <td>202.0</td>\n",
       "      <td>NaN</td>\n",
       "    </tr>\n",
       "    <tr>\n",
       "      <th>...</th>\n",
       "      <td>...</td>\n",
       "      <td>...</td>\n",
       "      <td>...</td>\n",
       "      <td>...</td>\n",
       "      <td>...</td>\n",
       "      <td>...</td>\n",
       "      <td>...</td>\n",
       "      <td>...</td>\n",
       "      <td>...</td>\n",
       "      <td>...</td>\n",
       "      <td>...</td>\n",
       "      <td>...</td>\n",
       "      <td>...</td>\n",
       "      <td>...</td>\n",
       "      <td>...</td>\n",
       "      <td>...</td>\n",
       "      <td>...</td>\n",
       "      <td>...</td>\n",
       "      <td>...</td>\n",
       "      <td>...</td>\n",
       "      <td>...</td>\n",
       "    </tr>\n",
       "    <tr>\n",
       "      <th>95</th>\n",
       "      <td>1993_UTAH</td>\n",
       "      <td>UTAH</td>\n",
       "      <td>1993</td>\n",
       "      <td>462323.0</td>\n",
       "      <td>1638305.0</td>\n",
       "      <td>116791.0</td>\n",
       "      <td>928596.0</td>\n",
       "      <td>592918.0</td>\n",
       "      <td>1665011.0</td>\n",
       "      <td>881924.0</td>\n",
       "      <td>...</td>\n",
       "      <td>35467.0</td>\n",
       "      <td>38031.0</td>\n",
       "      <td>31692.0</td>\n",
       "      <td>NaN</td>\n",
       "      <td>NaN</td>\n",
       "      <td>471365.0</td>\n",
       "      <td>NaN</td>\n",
       "      <td>NaN</td>\n",
       "      <td>NaN</td>\n",
       "      <td>NaN</td>\n",
       "    </tr>\n",
       "    <tr>\n",
       "      <th>96</th>\n",
       "      <td>1993_VERMONT</td>\n",
       "      <td>VERMONT</td>\n",
       "      <td>1993</td>\n",
       "      <td>97454.0</td>\n",
       "      <td>837540.0</td>\n",
       "      <td>34179.0</td>\n",
       "      <td>216778.0</td>\n",
       "      <td>586583.0</td>\n",
       "      <td>809853.0</td>\n",
       "      <td>405876.0</td>\n",
       "      <td>...</td>\n",
       "      <td>8457.0</td>\n",
       "      <td>7496.0</td>\n",
       "      <td>6227.0</td>\n",
       "      <td>NaN</td>\n",
       "      <td>NaN</td>\n",
       "      <td>102755.0</td>\n",
       "      <td>NaN</td>\n",
       "      <td>NaN</td>\n",
       "      <td>NaN</td>\n",
       "      <td>NaN</td>\n",
       "    </tr>\n",
       "    <tr>\n",
       "      <th>97</th>\n",
       "      <td>1993_VIRGINIA</td>\n",
       "      <td>VIRGINIA</td>\n",
       "      <td>1993</td>\n",
       "      <td>1032842.0</td>\n",
       "      <td>5918536.0</td>\n",
       "      <td>365601.0</td>\n",
       "      <td>2358711.0</td>\n",
       "      <td>3194224.0</td>\n",
       "      <td>5955333.0</td>\n",
       "      <td>3121277.0</td>\n",
       "      <td>...</td>\n",
       "      <td>81615.0</td>\n",
       "      <td>78443.0</td>\n",
       "      <td>60314.0</td>\n",
       "      <td>NaN</td>\n",
       "      <td>NaN</td>\n",
       "      <td>1045471.0</td>\n",
       "      <td>NaN</td>\n",
       "      <td>NaN</td>\n",
       "      <td>NaN</td>\n",
       "      <td>NaN</td>\n",
       "    </tr>\n",
       "    <tr>\n",
       "      <th>98</th>\n",
       "      <td>1993_WASHINGTON</td>\n",
       "      <td>WASHINGTON</td>\n",
       "      <td>1993</td>\n",
       "      <td>896197.0</td>\n",
       "      <td>5270961.0</td>\n",
       "      <td>284396.0</td>\n",
       "      <td>3720223.0</td>\n",
       "      <td>1266342.0</td>\n",
       "      <td>5791436.0</td>\n",
       "      <td>2778268.0</td>\n",
       "      <td>...</td>\n",
       "      <td>73824.0</td>\n",
       "      <td>70666.0</td>\n",
       "      <td>55847.0</td>\n",
       "      <td>NaN</td>\n",
       "      <td>NaN</td>\n",
       "      <td>915952.0</td>\n",
       "      <td>NaN</td>\n",
       "      <td>NaN</td>\n",
       "      <td>NaN</td>\n",
       "      <td>NaN</td>\n",
       "    </tr>\n",
       "    <tr>\n",
       "      <th>99</th>\n",
       "      <td>1993_WEST_VIRGINIA</td>\n",
       "      <td>WEST_VIRGINIA</td>\n",
       "      <td>1993</td>\n",
       "      <td>317719.0</td>\n",
       "      <td>1832154.0</td>\n",
       "      <td>140913.0</td>\n",
       "      <td>1220263.0</td>\n",
       "      <td>470978.0</td>\n",
       "      <td>1829848.0</td>\n",
       "      <td>1023497.0</td>\n",
       "      <td>...</td>\n",
       "      <td>22349.0</td>\n",
       "      <td>25677.0</td>\n",
       "      <td>21507.0</td>\n",
       "      <td>NaN</td>\n",
       "      <td>NaN</td>\n",
       "      <td>314383.0</td>\n",
       "      <td>NaN</td>\n",
       "      <td>NaN</td>\n",
       "      <td>NaN</td>\n",
       "      <td>NaN</td>\n",
       "    </tr>\n",
       "  </tbody>\n",
       "</table>\n",
       "<p>100 rows × 25 columns</p>\n",
       "</div>"
      ],
      "text/plain": [
       "           PRIMARY_KEY          STATE  YEAR     ENROLL  TOTAL_REVENUE  \\\n",
       "0         1992_ALABAMA        ALABAMA  1992        NaN      2678885.0   \n",
       "1          1992_ALASKA         ALASKA  1992        NaN      1049591.0   \n",
       "2         1992_ARIZONA        ARIZONA  1992        NaN      3258079.0   \n",
       "3        1992_ARKANSAS       ARKANSAS  1992        NaN      1711959.0   \n",
       "4      1992_CALIFORNIA     CALIFORNIA  1992        NaN     26260025.0   \n",
       "..                 ...            ...   ...        ...            ...   \n",
       "95           1993_UTAH           UTAH  1993   462323.0      1638305.0   \n",
       "96        1993_VERMONT        VERMONT  1993    97454.0       837540.0   \n",
       "97       1993_VIRGINIA       VIRGINIA  1993  1032842.0      5918536.0   \n",
       "98     1993_WASHINGTON     WASHINGTON  1993   896197.0      5270961.0   \n",
       "99  1993_WEST_VIRGINIA  WEST_VIRGINIA  1993   317719.0      1832154.0   \n",
       "\n",
       "    FEDERAL_REVENUE  STATE_REVENUE  LOCAL_REVENUE  TOTAL_EXPENDITURE  \\\n",
       "0          304177.0      1659028.0       715680.0          2653798.0   \n",
       "1          106780.0       720711.0       222100.0           972488.0   \n",
       "2          297888.0      1369815.0      1590376.0          3401580.0   \n",
       "3          178571.0       958785.0       574603.0          1743022.0   \n",
       "4         2072470.0     16546514.0      7641041.0         27138832.0   \n",
       "..              ...            ...            ...                ...   \n",
       "95         116791.0       928596.0       592918.0          1665011.0   \n",
       "96          34179.0       216778.0       586583.0           809853.0   \n",
       "97         365601.0      2358711.0      3194224.0          5955333.0   \n",
       "98         284396.0      3720223.0      1266342.0          5791436.0   \n",
       "99         140913.0      1220263.0       470978.0          1829848.0   \n",
       "\n",
       "    INSTRUCTION_EXPENDITURE  ...  GRADES_4_G  GRADES_8_G  GRADES_12_G  \\\n",
       "0                 1481703.0  ...     57948.0     58025.0      41167.0   \n",
       "1                  498362.0  ...      9748.0      8789.0       6714.0   \n",
       "2                 1435908.0  ...     55433.0     49081.0      37410.0   \n",
       "3                  964323.0  ...     34632.0     36011.0      27651.0   \n",
       "4                14358922.0  ...    418418.0    363296.0     270675.0   \n",
       "..                      ...  ...         ...         ...          ...   \n",
       "95                 881924.0  ...     35467.0     38031.0      31692.0   \n",
       "96                 405876.0  ...      8457.0      7496.0       6227.0   \n",
       "97                3121277.0  ...     81615.0     78443.0      60314.0   \n",
       "98                2778268.0  ...     73824.0     70666.0      55847.0   \n",
       "99                1023497.0  ...     22349.0     25677.0      21507.0   \n",
       "\n",
       "    GRADES_1_8_G  GRADES_9_12_G  GRADES_ALL_G  AVG_MATH_4_SCORE  \\\n",
       "0            NaN            NaN      731634.0             208.0   \n",
       "1            NaN            NaN      122487.0               NaN   \n",
       "2            NaN            NaN      673477.0             215.0   \n",
       "3            NaN            NaN      441490.0             210.0   \n",
       "4            NaN            NaN     5254844.0             208.0   \n",
       "..           ...            ...           ...               ...   \n",
       "95           NaN            NaN      471365.0               NaN   \n",
       "96           NaN            NaN      102755.0               NaN   \n",
       "97           NaN            NaN     1045471.0               NaN   \n",
       "98           NaN            NaN      915952.0               NaN   \n",
       "99           NaN            NaN      314383.0               NaN   \n",
       "\n",
       "    AVG_MATH_8_SCORE  AVG_READING_4_SCORE  AVG_READING_8_SCORE  \n",
       "0              252.0                207.0                  NaN  \n",
       "1                NaN                  NaN                  NaN  \n",
       "2              265.0                209.0                  NaN  \n",
       "3              256.0                211.0                  NaN  \n",
       "4              261.0                202.0                  NaN  \n",
       "..               ...                  ...                  ...  \n",
       "95               NaN                  NaN                  NaN  \n",
       "96               NaN                  NaN                  NaN  \n",
       "97               NaN                  NaN                  NaN  \n",
       "98               NaN                  NaN                  NaN  \n",
       "99               NaN                  NaN                  NaN  \n",
       "\n",
       "[100 rows x 25 columns]"
      ]
     },
     "execution_count": 24,
     "metadata": {},
     "output_type": "execute_result"
    },
    {
     "data": {
      "image/png": "[encoded data removed]",
      "text/plain": [
       "<Figure size 640x480 with 1 Axes>"
      ]
     },
     "metadata": {},
     "output_type": "display_data"
    }
   ],
   "source": [
    "# @@@ 1\n",
    "df.AVG_READING_4_SCORE.plot.hist(title=\"Distribution of 4th Grade Reading Scores\", edgecolor=\"black\")\n",
    "df.head(10)"
   ]
  },
  {
   "cell_type": "markdown",
   "metadata": {},
   "source": [
    "Let's compare Michigan to Ohio. Which state has the higher average across all years in the test you chose? **OHIO**"
   ]
  },
  {
   "cell_type": "code",
   "execution_count": 28,
   "metadata": {},
   "outputs": [
    {
     "name": "stdout",
     "output_type": "stream",
     "text": [
      "217.83333333333334\n",
      "223.1818181818182\n"
     ]
    }
   ],
   "source": [
    "# @@@ 2\n",
    "mich_average = df[df[\"STATE\"] == 'MICHIGAN'][\"AVG_READING_4_SCORE\"].mean()\n",
    "ohio_average = df[df[\"STATE\"] == 'OHIO'][\"AVG_READING_4_SCORE\"].mean()\n",
    "print(mich_average)\n",
    "print(ohio_average)"
   ]
  },
  {
   "cell_type": "markdown",
   "metadata": {},
   "source": [
    "Find the average for your chosen test across all states in 2019"
   ]
  },
  {
   "cell_type": "code",
   "execution_count": 29,
   "metadata": {},
   "outputs": [
    {
     "name": "stdout",
     "output_type": "stream",
     "text": [
      "219.79245283018867\n"
     ]
    }
   ],
   "source": [
    "# @@@ 3\n",
    "read_avg = df[df[\"YEAR\"] == 2019][\"AVG_READING_4_SCORE\"].mean()\n",
    "print(read_avg)"
   ]
  },
  {
   "cell_type": "markdown",
   "metadata": {},
   "source": [
    "For each state, find a maximum value for your chosen test score"
   ]
  },
  {
   "cell_type": "code",
   "execution_count": 31,
   "metadata": {},
   "outputs": [
    {
     "name": "stdout",
     "output_type": "stream",
     "text": [
      "STATE\n",
      "ALABAMA                 220.0\n",
      "ALASKA                  214.0\n",
      "ARIZONA                 216.0\n",
      "ARKANSAS                219.0\n",
      "CALIFORNIA              216.0\n",
      "COLORADO                227.0\n",
      "CONNECTICUT             230.0\n",
      "DELAWARE                226.0\n",
      "DISTRICT_OF_COLUMBIA    214.0\n",
      "DODEA                   235.0\n",
      "FLORIDA                 228.0\n",
      "GEORGIA                 222.0\n",
      "HAWAII                  218.0\n",
      "IDAHO                   223.0\n",
      "ILLINOIS                222.0\n",
      "INDIANA                 227.0\n",
      "IOWA                    225.0\n",
      "KANSAS                  225.0\n",
      "KENTUCKY                228.0\n",
      "LOUISIANA               216.0\n",
      "MAINE                   228.0\n",
      "MARYLAND                232.0\n",
      "MASSACHUSETTS           237.0\n",
      "MICHIGAN                220.0\n",
      "MINNESOTA               227.0\n",
      "MISSISSIPPI             219.0\n",
      "MISSOURI                224.0\n",
      "MONTANA                 227.0\n",
      "NATIONAL                223.0\n",
      "NEBRASKA                227.0\n",
      "NEVADA                  218.0\n",
      "NEW_HAMPSHIRE           232.0\n",
      "NEW_JERSEY              233.0\n",
      "NEW_MEXICO              212.0\n",
      "NEW_YORK                224.0\n",
      "NORTH_CAROLINA          226.0\n",
      "NORTH_DAKOTA            226.0\n",
      "OHIO                    226.0\n",
      "OKLAHOMA                222.0\n",
      "OREGON                  220.0\n",
      "PENNSYLVANIA            227.0\n",
      "RHODE_ISLAND            225.0\n",
      "SOUTH_CAROLINA          218.0\n",
      "SOUTH_DAKOTA            223.0\n",
      "TENNESSEE               220.0\n",
      "TEXAS                   220.0\n",
      "UTAH                    226.0\n",
      "VERMONT                 230.0\n",
      "VIRGINIA                229.0\n",
      "WASHINGTON              226.0\n",
      "WEST_VIRGINIA           219.0\n",
      "WISCONSIN               224.0\n",
      "WYOMING                 228.0\n",
      "Name: AVG_READING_4_SCORE, dtype: float64\n"
     ]
    }
   ],
   "source": [
    "# @@@ 4\n",
    "max_score = df.groupby(\"STATE\")[\"AVG_READING_4_SCORE\"].max()\n",
    "print(max_score)"
   ]
  },
  {
   "cell_type": "markdown",
   "metadata": {},
   "source": [
    "*Refer to the `Grouping and Aggregating` section in Tutorial 0 if you are stuck."
   ]
  },
  {
   "cell_type": "markdown",
   "metadata": {},
   "source": [
    "<h2> Feature Engineering </h2>\n",
    "\n",
    "After exploring the data, you can choose to modify features that you would use to predict the performance of the students on your chosen response variable. \n",
    "\n",
    "You can also create your own features. For example, perhaps you figured that maybe a state's expenditure per student may affect their overall academic performance so you create a expenditure_per_student feature.\n",
    "\n",
    "Use this space to modify or create features."
   ]
  },
  {
   "cell_type": "code",
   "execution_count": null,
   "metadata": {},
   "outputs": [],
   "source": [
    "# @@@ 5\n",
    "df['SUPPORT_SERVICES_EXPENDITURE_PER_STUDENT'] = df['SUPPORT_SERVICES_EXPENDITURE'] / df['ENROLL']\n"
   ]
  },
  {
   "cell_type": "markdown",
   "metadata": {},
   "source": [
    "Feature engineering justification: **Created an expenditure per student**"
   ]
  },
  {
   "cell_type": "markdown",
   "metadata": {},
   "source": [
    "<h2>Visualization</h2>\n",
    "\n",
    "Investigate the relationship between your chosen response variable and at least two predictors using visualizations. Write down your observations.\n",
    "\n",
    "**Visualization 1**"
   ]
  },
  {
   "cell_type": "code",
   "execution_count": 39,
   "metadata": {},
   "outputs": [
    {
     "data": {
      "image/png": "[encoded data removed]",
      "text/plain": [
       "<Figure size 640x480 with 1 Axes>"
      ]
     },
     "metadata": {},
     "output_type": "display_data"
    }
   ],
   "source": [
    "# @@@ 6\n",
    "from sklearn.model_selection import train_test_split\n",
    "X = df[['ENROLL','AVG_READING_4_SCORE']].dropna()\n",
    "y = df.loc[X.index]['AVG_READING_8_SCORE']\n",
    "plt.xlabel(\"AVG_READING_4_SCORE\")\n",
    "plt.ylabel(\"ENROLL\")\n",
    "plt.show()"
   ]
  },
  {
   "cell_type": "markdown",
   "metadata": {},
   "source": [
    "**Average Reading Score and Enrollment**"
   ]
  },
  {
   "cell_type": "markdown",
   "metadata": {},
   "source": [
    "**Visualization 2**"
   ]
  },
  {
   "cell_type": "code",
   "execution_count": 41,
   "metadata": {},
   "outputs": [
    {
     "data": {
      "text/plain": [
       "Text(0, 0.5, '8th Grade Reading Score')"
      ]
     },
     "execution_count": 41,
     "metadata": {},
     "output_type": "execute_result"
    },
    {
     "data": {
      "image/png": "[encoded data removed]",
      "text/plain": [
       "<Figure size 640x480 with 1 Axes>"
      ]
     },
     "metadata": {},
     "output_type": "display_data"
    }
   ],
   "source": [
    "# @@@ 7\n",
    "df.plot.scatter(x='ENROLL', y='AVG_READING_8_SCORE', alpha=0.6)\n",
    "plt.xlabel('8th Grade Enrollment')\n",
    "plt.ylabel('8th Grade Reading Score')"
   ]
  },
  {
   "cell_type": "markdown",
   "metadata": {},
   "source": [
    "***8th Grade Enrollment and Reading Score**"
   ]
  },
  {
   "cell_type": "markdown",
   "metadata": {},
   "source": [
    "<h2> Data Creation </h2>\n",
    "\n",
    "_Use this space to create train/test data_"
   ]
  },
  {
   "cell_type": "code",
   "execution_count": 14,
   "metadata": {},
   "outputs": [],
   "source": [
    "from sklearn.model_selection import train_test_split"
   ]
  },
  {
   "cell_type": "code",
   "execution_count": 15,
   "metadata": {},
   "outputs": [],
   "source": [
    "# @@@ 8\n",
    "\n",
    "# X =\n",
    "# y = "
   ]
  },
  {
   "cell_type": "code",
   "execution_count": 16,
   "metadata": {},
   "outputs": [],
   "source": [
    "# @@@ 9 \n",
    "\n",
    "# X_train, X_test, y_train, y_test = train_test_split(\n",
    "#      X, y, test_size=, random_state=42)"
   ]
  },
  {
   "cell_type": "markdown",
   "metadata": {},
   "source": [
    "<h2> Prediction </h2>"
   ]
  },
  {
   "cell_type": "markdown",
   "metadata": {},
   "source": [
    "ML Models [Resource](https://medium.com/@vijaya.beeravalli/comparison-of-machine-learning-classification-models-for-credit-card-default-data-c3cf805c9a5a)"
   ]
  },
  {
   "cell_type": "code",
   "execution_count": 17,
   "metadata": {},
   "outputs": [],
   "source": [
    "# @@@ 10\n",
    "# import your sklearn class here\n"
   ]
  },
  {
   "cell_type": "code",
   "execution_count": 18,
   "metadata": {},
   "outputs": [],
   "source": [
    "# @@@ 11\n",
    "# create your model here\n",
    "# model = "
   ]
  },
  {
   "cell_type": "code",
   "execution_count": 19,
   "metadata": {},
   "outputs": [
    {
     "ename": "NameError",
     "evalue": "name 'model' is not defined",
     "output_type": "error",
     "traceback": [
      "\u001b[31m---------------------------------------------------------------------------\u001b[39m",
      "\u001b[31mNameError\u001b[39m                                 Traceback (most recent call last)",
      "\u001b[36mCell\u001b[39m\u001b[36m \u001b[39m\u001b[32mIn[19]\u001b[39m\u001b[32m, line 1\u001b[39m\n\u001b[32m----> \u001b[39m\u001b[32m1\u001b[39m \u001b[43mmodel\u001b[49m.fit(X_train, y_train)\n",
      "\u001b[31mNameError\u001b[39m: name 'model' is not defined"
     ]
    }
   ],
   "source": [
    "model.fit(X_train, y_train)"
   ]
  },
  {
   "cell_type": "code",
   "execution_count": null,
   "metadata": {},
   "outputs": [],
   "source": [
    "y_pred = model.predict(X_test)"
   ]
  },
  {
   "cell_type": "markdown",
   "metadata": {},
   "source": [
    "## Evaluation"
   ]
  },
  {
   "cell_type": "markdown",
   "metadata": {},
   "source": [
    "Choose some metrics to evaluate the performance of your model, some of them are mentioned in the tutorial."
   ]
  },
  {
   "cell_type": "code",
   "execution_count": null,
   "metadata": {},
   "outputs": [],
   "source": [
    "# @@@ 12\n"
   ]
  },
  {
   "cell_type": "markdown",
   "metadata": {},
   "source": [
    "We have copied over the graphs that visualize the model's performance on the training and testing set. \n",
    "\n",
    "Change `col_name` and modify the call to `plt.ylabel()` to isolate how a single predictor affects the model."
   ]
  },
  {
   "cell_type": "code",
   "execution_count": null,
   "metadata": {},
   "outputs": [],
   "source": [
    "# @@@ 13\n",
    "\n",
    "# col_name = 'COLUMN NAME OF ONE PREDICTOR'\n",
    "\n",
    "\n",
    "# f = plt.figure(figsize=(12,6))\n",
    "# plt.scatter(X_train[col_name], y_train, color = \"red\")\n",
    "# plt.scatter(X_train[col_name], model.predict(X_train), color = \"green\")\n",
    "\n",
    "# plt.legend(['True Training','Predicted Training'])\n",
    "# plt.xlabel(col_name)\n",
    "# plt.ylabel('NAME OF THE PREDICTOR')\n",
    "# plt.title(\"Model Behavior On Training Set\")"
   ]
  },
  {
   "cell_type": "code",
   "execution_count": null,
   "metadata": {},
   "outputs": [],
   "source": [
    "# @@@ 14\n",
    "\n",
    "\n",
    "# col_name = 'COLUMN NAME OF ONE PREDICTOR\"\n",
    "\n",
    "\n",
    "# f = plt.figure(figsize=(12,6))\n",
    "# plt.scatter(X_test[col_name], y_test, color = \"blue\")\n",
    "# plt.scatter(X_test[col_name], model.predict(X_test), color = \"black\")\n",
    "\n",
    "# plt.legend(['True testing','Predicted testing'])\n",
    "# plt.xlabel(col_name)\n",
    "# plt.ylabel('NAME OF THE PREDICTOR')\n",
    "# plt.title(\"Model Behavior on Testing Set\")"
   ]
  }
 ],
 "metadata": {
  "kernelspec": {
   "display_name": "Python 3",
   "language": "python",
   "name": "python3"
  },
  "language_info": {
   "codemirror_mode": {
    "name": "ipython",
    "version": 3
   },
   "file_extension": ".py",
   "mimetype": "text/x-python",
   "name": "python",
   "nbconvert_exporter": "python",
   "pygments_lexer": "ipython3",
   "version": "3.13.7"
  }
 },
 "nbformat": 4,
 "nbformat_minor": 4
}
